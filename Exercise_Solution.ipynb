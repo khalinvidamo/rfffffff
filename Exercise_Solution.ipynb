{
  "nbformat": 4,
  "nbformat_minor": 0,
  "metadata": {
    "colab": {
      "provenance": [],
      "authorship_tag": "ABX9TyOqBfeAowwb5edobPW1oAly",
      "include_colab_link": true
    },
    "kernelspec": {
      "name": "python3",
      "display_name": "Python 3"
    },
    "language_info": {
      "name": "python"
    }
  },
  "cells": [
    {
      "cell_type": "markdown",
      "metadata": {
        "id": "view-in-github",
        "colab_type": "text"
      },
      "source": [
        "<a href=\"https://colab.research.google.com/github/khalinvidamo/rfffffff/blob/main/Exercise_Solution.ipynb\" target=\"_parent\"><img src=\"https://colab.research.google.com/assets/colab-badge.svg\" alt=\"Open In Colab\"/></a>"
      ]
    },
    {
      "cell_type": "markdown",
      "source": [
        "####01: Try a Support Vector Machine regressor (`sklearn.svm.SVR`), with various hyperparameters such as `kernel=\"linear\"` (with various values for the `C` hyperparameter) or `kernel=\"rbf\"` (with various values for the `C` and `gamma` hyperparameters). Don't worry about what these hyperparameters mean for now. How does the best `SVR` predictor perform?"
      ],
      "metadata": {
        "id": "PR3WHXHdv9qE"
      }
    },
    {
      "cell_type": "markdown",
      "source": [
        "####Answer"
      ],
      "metadata": {
        "id": "5qvZS-qAwGPG"
      }
    },
    {
      "cell_type": "code",
      "execution_count": null,
      "metadata": {
        "id": "3IEqBo-Kv4zV"
      },
      "outputs": [],
      "source": [
        "from sklearn.model_selection import GridSearchCV\n",
        "\n",
        "param_grid = [\n",
        "        {'kernel': ['linear'], 'C': [10., 30., 100., 300., 1000., 3000., 10000., 30000.0]},\n",
        "        {'kernel': ['rbf'], 'C': [1.0, 3.0, 10., 30., 100., 300., 1000.0],\n",
        "         'gamma': [0.01, 0.03, 0.1, 0.3, 1.0, 3.0]},\n",
        "    ]\n",
        "\n",
        "svm_reg = SVR()\n",
        "grid_search = GridSearchCV(svm_reg, param_grid, cv=5, scoring='neg_mean_squared_error', verbose=2)\n",
        "grid_search.fit(housing_prepared, housing_labels)"
      ]
    },
    {
      "cell_type": "markdown",
      "source": [
        "The best model achieves the following score (evaluated using 5-fold cross validation):"
      ],
      "metadata": {
        "id": "Xc2R5ZVtwWjI"
      }
    },
    {
      "cell_type": "code",
      "source": [
        "negative_mse = grid_search.best_score_\n",
        "rmse = np.sqrt(-negative_mse)\n",
        "rmse"
      ],
      "metadata": {
        "id": "tlKXECmhwcqA"
      },
      "execution_count": null,
      "outputs": []
    },
    {
      "cell_type": "markdown",
      "source": [
        "That's much worse than the `RandomForestRegressor`. Let's check the best hyperparameters found:"
      ],
      "metadata": {
        "id": "LNQZixFqwgga"
      }
    },
    {
      "cell_type": "code",
      "source": [
        "grid_search.best_params_"
      ],
      "metadata": {
        "id": "BIqFzBdNwn2F"
      },
      "execution_count": null,
      "outputs": []
    },
    {
      "cell_type": "markdown",
      "source": [
        "The linear kernel seems better than the RBF kernel. Notice that the value of `C` is the maximum tested value. When this happens you definitely want to launch the grid search again with higher values for `C` (removing the smallest values), because it is likely that higher values of `C` will be better."
      ],
      "metadata": {
        "id": "Cw2uNktwwrlE"
      }
    },
    {
      "cell_type": "markdown",
      "source": [
        "####02: Question: Try replacing `GridSearchCV` with `RandomizedSearchCV`."
      ],
      "metadata": {
        "id": "Mroh9NAFwuEM"
      }
    },
    {
      "cell_type": "code",
      "source": [
        "from sklearn.model_selection import RandomizedSearchCV\n",
        "from scipy.stats import expon, reciprocal\n",
        "\n",
        "# see https://docs.scipy.org/doc/scipy/reference/stats.html\n",
        "# for `expon()` and `reciprocal()` documentation and more probability distribution functions.\n",
        "\n",
        "# Note: gamma is ignored when kernel is \"linear\"\n",
        "param_distribs = {\n",
        "        'kernel': ['linear', 'rbf'],\n",
        "        'C': reciprocal(20, 200000),\n",
        "        'gamma': expon(scale=1.0),\n",
        "    }\n",
        "\n",
        "svm_reg = SVR()\n",
        "rnd_search = RandomizedSearchCV(svm_reg, param_distributions=param_distribs,\n",
        "                                n_iter=50, cv=5, scoring='neg_mean_squared_error',\n",
        "                                verbose=2, random_state=42)\n",
        "rnd_search.fit(housing_prepared, housing_labels)"
      ],
      "metadata": {
        "id": "kdApjgffw2BW"
      },
      "execution_count": null,
      "outputs": []
    },
    {
      "cell_type": "markdown",
      "source": [
        "#####The best model achieves the following score (evaluated using 5-fold cross validation):"
      ],
      "metadata": {
        "id": "zTQIOSWDw7PX"
      }
    },
    {
      "cell_type": "code",
      "source": [
        "negative_mse = rnd_search.best_score_\n",
        "rmse = np.sqrt(-negative_mse)\n",
        "rmse"
      ],
      "metadata": {
        "id": "5S_dTzTAw8qu"
      },
      "execution_count": null,
      "outputs": []
    },
    {
      "cell_type": "markdown",
      "source": [
        "#####Now this is much closer to the performance of the `RandomForestRegressor` (but not quite there yet). Let's check the best hyperparameters found:"
      ],
      "metadata": {
        "id": "L_KxzPFWw_-_"
      }
    },
    {
      "cell_type": "code",
      "source": [
        "rnd_search.best_params_"
      ],
      "metadata": {
        "id": "pMWA9o4fxDng"
      },
      "execution_count": null,
      "outputs": []
    },
    {
      "cell_type": "markdown",
      "source": [
        "#####This time the search found a good set of hyperparameters for the RBF kernel. Randomized search tends to find better hyperparameters than grid search in the same amount of time."
      ],
      "metadata": {
        "id": "Co8MHqGaxLUi"
      }
    },
    {
      "cell_type": "markdown",
      "source": [
        "#####Let's look at the exponential distribution we used, with `scale=1.0`. Note that some samples are much larger or smaller than 1.0, but when you look at the log of the distribution, you can see that most values are actually concentrated roughly in the range of exp(-2) to exp(+2), which is about 0.1 to 7.4."
      ],
      "metadata": {
        "id": "nkmqh3OlxLad"
      }
    },
    {
      "cell_type": "code",
      "source": [
        "expon_distrib = expon(scale=1.)\n",
        "samples = expon_distrib.rvs(10000, random_state=42)\n",
        "plt.figure(figsize=(10, 4))\n",
        "plt.subplot(121)\n",
        "plt.title(\"Exponential distribution (scale=1.0)\")\n",
        "plt.hist(samples, bins=50)\n",
        "plt.subplot(122)\n",
        "plt.title(\"Log of this distribution\")\n",
        "plt.hist(np.log(samples), bins=50)\n",
        "plt.show()"
      ],
      "metadata": {
        "id": "ctkv0Oj9xUW4"
      },
      "execution_count": null,
      "outputs": []
    },
    {
      "cell_type": "markdown",
      "source": [
        "#####The distribution we used for `C` looks quite different: the scale of the samples is picked from a uniform distribution within a given range, which is why the right graph, which represents the log of the samples, looks roughly constant. This distribution is useful when you don't have a clue of what the target scale is:"
      ],
      "metadata": {
        "id": "E5zMCKuExYZc"
      }
    },
    {
      "cell_type": "code",
      "source": [
        "reciprocal_distrib = reciprocal(20, 200000)\n",
        "samples = reciprocal_distrib.rvs(10000, random_state=42)\n",
        "plt.figure(figsize=(10, 4))\n",
        "plt.subplot(121)\n",
        "plt.title(\"Reciprocal distribution (scale=1.0)\")\n",
        "plt.hist(samples, bins=50)\n",
        "plt.subplot(122)\n",
        "plt.title(\"Log of this distribution\")\n",
        "plt.hist(np.log(samples), bins=50)\n",
        "plt.show()"
      ],
      "metadata": {
        "id": "rphkepM4xb7d"
      },
      "execution_count": null,
      "outputs": []
    },
    {
      "cell_type": "markdown",
      "source": [
        "###03: Try adding a transformer in the preparation pipeline to select only the most important attributes."
      ],
      "metadata": {
        "id": "A5xsyfIIxfW3"
      }
    },
    {
      "cell_type": "code",
      "source": [
        "from sklearn.base import BaseEstimator, TransformerMixin\n",
        "\n",
        "def indices_of_top_k(arr, k):\n",
        "    return np.sort(np.argpartition(np.array(arr), -k)[-k:])\n",
        "\n",
        "class TopFeatureSelector(BaseEstimator, TransformerMixin):\n",
        "    def __init__(self, feature_importances, k):\n",
        "        self.feature_importances = feature_importances\n",
        "        self.k = k\n",
        "    def fit(self, X, y=None):\n",
        "        self.feature_indices_ = indices_of_top_k(self.feature_importances, self.k)\n",
        "        return self\n",
        "    def transform(self, X):\n",
        "        return X[:, self.feature_indices_]"
      ],
      "metadata": {
        "id": "PcrxZK62xnPg"
      },
      "execution_count": null,
      "outputs": []
    },
    {
      "cell_type": "markdown",
      "source": [
        "#####Note: this feature selector assumes that you have already computed the feature importances somehow (for example using a `RandomForestRegressor`). You may be tempted to compute them directly in the `TopFeatureSelector`'s `fit()` method, however this would likely slow down grid/randomized search since the feature importances would have to be computed for every hyperparameter combination (unless you implement some sort of cache)."
      ],
      "metadata": {
        "id": "lcqWZtyextDf"
      }
    },
    {
      "cell_type": "markdown",
      "source": [
        "####Let's define the number of top features we want to keep:"
      ],
      "metadata": {
        "id": "Pkk6b7sfx0-p"
      }
    },
    {
      "cell_type": "code",
      "source": [
        "k = 5"
      ],
      "metadata": {
        "id": "rsreIBikx5nK"
      },
      "execution_count": null,
      "outputs": []
    },
    {
      "cell_type": "code",
      "source": [
        "top_k_feature_indices = indices_of_top_k(feature_importances, k)\n",
        "top_k_feature_indices"
      ],
      "metadata": {
        "id": "fh7qCKxkx9eK"
      },
      "execution_count": null,
      "outputs": []
    },
    {
      "cell_type": "code",
      "source": [
        "np.array(attributes)[top_k_feature_indices]"
      ],
      "metadata": {
        "id": "CV525cCwx-Ky"
      },
      "execution_count": null,
      "outputs": []
    },
    {
      "cell_type": "code",
      "source": [
        "sorted(zip(feature_importances, attributes), reverse=True)[:k]"
      ],
      "metadata": {
        "id": "9OobvfG3yEHN"
      },
      "execution_count": null,
      "outputs": []
    },
    {
      "cell_type": "code",
      "source": [
        "preparation_and_feature_selection_pipeline = Pipeline([\n",
        "    ('preparation', full_pipeline),\n",
        "    ('feature_selection', TopFeatureSelector(feature_importances, k))\n",
        "])"
      ],
      "metadata": {
        "id": "7GJxDkb3yGCF"
      },
      "execution_count": null,
      "outputs": []
    },
    {
      "cell_type": "code",
      "source": [
        "housing_prepared_top_k_features = preparation_and_feature_selection_pipeline.fit_transform(housing)"
      ],
      "metadata": {
        "id": "XYjr-noPyH08"
      },
      "execution_count": null,
      "outputs": []
    },
    {
      "cell_type": "code",
      "source": [
        "housing_prepared_top_k_features[0:3]"
      ],
      "metadata": {
        "id": "KUhTulnHyO7u"
      },
      "execution_count": null,
      "outputs": []
    },
    {
      "cell_type": "code",
      "source": [
        "housing_prepared[0:3, top_k_feature_indices]"
      ],
      "metadata": {
        "id": "cH65xxfmySOX"
      },
      "execution_count": null,
      "outputs": []
    },
    {
      "cell_type": "markdown",
      "source": [
        "###04:Try creating a single pipeline that does the full data preparation plus the final prediction."
      ],
      "metadata": {
        "id": "EwsGfDGyyS4t"
      }
    },
    {
      "cell_type": "code",
      "source": [
        "prepare_select_and_predict_pipeline = Pipeline([\n",
        "    ('preparation', full_pipeline),\n",
        "    ('feature_selection', TopFeatureSelector(feature_importances, k)),\n",
        "    ('svm_reg', SVR(**rnd_search.best_params_))\n",
        "])"
      ],
      "metadata": {
        "id": "3L_ioEdxyzje"
      },
      "execution_count": null,
      "outputs": []
    },
    {
      "cell_type": "code",
      "source": [
        "prepare_select_and_predict_pipeline.fit(housing, housing_labels)"
      ],
      "metadata": {
        "id": "9ptLwAshy3Jb"
      },
      "execution_count": null,
      "outputs": []
    },
    {
      "cell_type": "code",
      "source": [
        "some_data = housing.iloc[:4]\n",
        "some_labels = housing_labels.iloc[:4]\n",
        "\n",
        "print(\"Predictions:\\t\", prepare_select_and_predict_pipeline.predict(some_data))\n",
        "print(\"Labels:\\t\\t\", list(some_labels))"
      ],
      "metadata": {
        "id": "VnI6h2-Yy5fs"
      },
      "execution_count": null,
      "outputs": []
    },
    {
      "cell_type": "markdown",
      "source": [
        "#####Well, the full pipeline seems to work fine. Of course, the predictions are not fantastic: they would be better if we used the best `RandomForestRegressor` that we found earlier, rather than the best `SVR`."
      ],
      "metadata": {
        "id": "vrGpcTl1zAUG"
      }
    },
    {
      "cell_type": "markdown",
      "source": [
        "####05:Automatically explore some preparation options using `GridSearchCV`."
      ],
      "metadata": {
        "id": "icgGHLDyzB6m"
      }
    },
    {
      "cell_type": "code",
      "source": [
        "full_pipeline.named_transformers_[\"cat\"].handle_unknown = 'ignore'\n",
        "\n",
        "param_grid = [{\n",
        "    'preparation__num__imputer__strategy': ['mean', 'median', 'most_frequent'],\n",
        "    'feature_selection__k': list(range(1, len(feature_importances) + 1))\n",
        "}]\n",
        "\n",
        "grid_search_prep = GridSearchCV(prepare_select_and_predict_pipeline, param_grid, cv=5,\n",
        "                                scoring='neg_mean_squared_error', verbose=2)\n",
        "grid_search_prep.fit(housing, housing_labels)"
      ],
      "metadata": {
        "id": "p5lPV7utzMFo"
      },
      "execution_count": null,
      "outputs": []
    },
    {
      "cell_type": "code",
      "source": [
        "grid_search_prep.best_params_"
      ],
      "metadata": {
        "id": "q8sgFrjyzQTW"
      },
      "execution_count": null,
      "outputs": []
    }
  ]
}